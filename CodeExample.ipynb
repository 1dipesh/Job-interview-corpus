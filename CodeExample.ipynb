{
 "cells": [
  {
   "cell_type": "code",
   "execution_count": 5,
   "metadata": {},
   "outputs": [],
   "source": [
    "import JobInterviewTreeBank as corpus"
   ]
  },
  {
   "cell_type": "markdown",
   "metadata": {},
   "source": [
    "# Corpus functions \n",
    "\n",
    "Job interview corpus, this data is collected from interview book guides, contains over 500 questions and their answers. The contents in this corpus cover the interview about general job interview. Our code mimics the structure from Python nltk library containing functions as follows: \n",
    "\n",
    "    - raw_text(): str corpus texts\n",
    "    - raw_question_answer(): pandas dataframe of questions and answers\n",
    "    - raw(): str unprocessed corpus contents\n",
    "    - words(): list of str\n",
    "    - sents(): list of (list of str)\n",
    "    - tagged_words(): list of (str,str) tuple\n",
    "    - tagged_sents(): list of (list of (str,str))\n",
    "    - parsed_sents(): list of (Tree with str leaves)\n",
    "    - dependency_parsed_sents(): list of dependency parsing str\n",
    "    - visualize_parsed_tree(): visualize tree structure of a parsed_tree of a sentence"
   ]
  },
  {
   "cell_type": "code",
   "execution_count": 7,
   "metadata": {},
   "outputs": [
    {
     "name": "stdout",
     "output_type": "stream",
     "text": [
      "Datatype :  <class 'str'>\n",
      "--- Sample Data ---\n",
      " What are your key skills?\n",
      " After spending the past six years as a senior system\n"
     ]
    }
   ],
   "source": [
    "raw_text = corpus.raw_text()\n",
    "print(\"Datatype : \", type(raw_text))\n",
    "print(\"--- Sample Data ---\")\n",
    "print(raw_text[:80])"
   ]
  },
  {
   "cell_type": "code",
   "execution_count": 8,
   "metadata": {},
   "outputs": [
    {
     "name": "stdout",
     "output_type": "stream",
     "text": [
      "Datatype :  <class 'str'>\n",
      "--- Sample Data ---\n",
      "\n",
      "(  (SBARQ\r\n",
      "    (WHNP (WP What))\r\n",
      "    (SQ (VBP are)\r\n",
      "      (NP (PRP$ your) (JJ key) (NNS skills)))\r\n",
      "    (. ?))\n"
     ]
    }
   ],
   "source": [
    "raw = corpus.raw()\n",
    "print(\"Datatype : \", type(raw))\n",
    "print(\"--- Sample Data ---\")\n",
    "print(raw[:110])"
   ]
  },
  {
   "cell_type": "code",
   "execution_count": 9,
   "metadata": {},
   "outputs": [
    {
     "name": "stdout",
     "output_type": "stream",
     "text": [
      "Datatype :  <class 'pandas.core.frame.DataFrame'>\n",
      "--- Sample Data ---\n"
     ]
    },
    {
     "data": {
      "text/html": [
       "<div>\n",
       "<style scoped>\n",
       "    .dataframe tbody tr th:only-of-type {\n",
       "        vertical-align: middle;\n",
       "    }\n",
       "\n",
       "    .dataframe tbody tr th {\n",
       "        vertical-align: top;\n",
       "    }\n",
       "\n",
       "    .dataframe thead th {\n",
       "        text-align: right;\n",
       "    }\n",
       "</style>\n",
       "<table border=\"1\" class=\"dataframe\">\n",
       "  <thead>\n",
       "    <tr style=\"text-align: right;\">\n",
       "      <th></th>\n",
       "      <th>question</th>\n",
       "      <th>answer</th>\n",
       "    </tr>\n",
       "  </thead>\n",
       "  <tbody>\n",
       "    <tr>\n",
       "      <th>0</th>\n",
       "      <td>What are your key skills?</td>\n",
       "      <td>After spending the past six years as a senior...</td>\n",
       "    </tr>\n",
       "    <tr>\n",
       "      <th>1</th>\n",
       "      <td>What skills do you think are most critical to...</td>\n",
       "      <td>As technology is ever changing, I think that ...</td>\n",
       "    </tr>\n",
       "    <tr>\n",
       "      <th>2</th>\n",
       "      <td>If you were to stay in your current job, what...</td>\n",
       "      <td>If I were to stay at my current job, I'd like...</td>\n",
       "    </tr>\n",
       "    <tr>\n",
       "      <th>3</th>\n",
       "      <td>What skills would you like to develop in this...</td>\n",
       "      <td>I'd like to develop my negotiating skills. I'...</td>\n",
       "    </tr>\n",
       "    <tr>\n",
       "      <th>4</th>\n",
       "      <td>How well do you write?</td>\n",
       "      <td>I would say that my writing skills are above ...</td>\n",
       "    </tr>\n",
       "  </tbody>\n",
       "</table>\n",
       "</div>"
      ],
      "text/plain": [
       "                                            question  \\\n",
       "0                          What are your key skills?   \n",
       "1   What skills do you think are most critical to...   \n",
       "2   If you were to stay in your current job, what...   \n",
       "3   What skills would you like to develop in this...   \n",
       "4                             How well do you write?   \n",
       "\n",
       "                                              answer  \n",
       "0   After spending the past six years as a senior...  \n",
       "1   As technology is ever changing, I think that ...  \n",
       "2   If I were to stay at my current job, I'd like...  \n",
       "3   I'd like to develop my negotiating skills. I'...  \n",
       "4   I would say that my writing skills are above ...  "
      ]
     },
     "execution_count": 9,
     "metadata": {},
     "output_type": "execute_result"
    }
   ],
   "source": [
    "raw = corpus.raw_question_answer()\n",
    "print(\"Datatype : \", type(raw))\n",
    "print(\"--- Sample Data ---\")\n",
    "raw.head()"
   ]
  },
  {
   "cell_type": "code",
   "execution_count": 10,
   "metadata": {},
   "outputs": [
    {
     "name": "stdout",
     "output_type": "stream",
     "text": [
      "Datatype :  <class 'list'>\n",
      "--- Sample Data ---\n",
      "['What', 'are', 'your', 'key', 'skills', '?', 'After', 'spending', 'the', 'past', 'six', 'years', 'as', 'a', 'senior', 'systems', 'analyst', ',', 'I', \"'ve\", 'developed', 'a', 'number', 'of', 'important', 'skills', ',', 'including', 'business', 'modeling', ',', 'process', 're-engineering', ',', 'software-package', 'evaluation', ',', 'and', 'advanced', 'programming', 'capabilities', 'in', 'UNIX', 'and', 'C', 'environments', '.', 'I', 'was', 'very']\n"
     ]
    }
   ],
   "source": [
    "words = corpus.words()\n",
    "print(\"Datatype : \", type(words))\n",
    "print(\"--- Sample Data ---\")\n",
    "print(words[:50])"
   ]
  },
  {
   "cell_type": "code",
   "execution_count": 11,
   "metadata": {},
   "outputs": [
    {
     "name": "stdout",
     "output_type": "stream",
     "text": [
      "Datatype :  <class 'list'>\n",
      "--- Sample Data ---\n",
      "[' What are your key skills?', \"After spending the past six years as a senior systems analyst, I've developed a number of important skills, including business modeling, process re-engineering, software-package evaluation, and advanced programming capabilities in UNIX and C environments.\", 'I was very pleased to discover that these are the skills you are seeking.', 'Would you like to hear about specific examples of my work?', 'What skills do you think are most critical to this job?', 'As technology is ever changing, I think that it is important to keep up with the latest marketing trends.', 'Knowing what kinds of new technologies exist and how to go about incorporating them into my own marketing plans is what will keep me ahead of the competition.', 'Creativity is also of major importance to the marketing industry; new ideas can quickly become stale and stagnant.', 'A successful marketing associate will always be looking ahead to the next big revolution.', 'If, just a few years ago, I had not been aware of the important role that the web would play in our day-to-day duties, my current company could have been wiped out by the competition.']\n"
     ]
    }
   ],
   "source": [
    "sents = corpus.sents()\n",
    "print(\"Datatype : \", type(sents))\n",
    "print(\"--- Sample Data ---\")\n",
    "print(sents[:10])"
   ]
  },
  {
   "cell_type": "code",
   "execution_count": 12,
   "metadata": {},
   "outputs": [
    {
     "name": "stdout",
     "output_type": "stream",
     "text": [
      "Datatype :  <class 'list'>\n",
      "--- Sample Data ---\n",
      "[('What', 'WP'), ('are', 'VBP'), ('your', 'PRP$'), ('key', 'JJ'), ('skills', 'NNS'), ('?', '.'), ('After', 'IN'), ('spending', 'VBG'), ('the', 'DT'), ('past', 'JJ')]\n"
     ]
    }
   ],
   "source": [
    "tagged_words = corpus.tagged_words()\n",
    "print(\"Datatype : \", type(tagged_words))\n",
    "print(\"--- Sample Data ---\")\n",
    "print(tagged_words[:10])"
   ]
  },
  {
   "cell_type": "code",
   "execution_count": 13,
   "metadata": {},
   "outputs": [
    {
     "name": "stdout",
     "output_type": "stream",
     "text": [
      "Datatype :  <class 'list'>\n",
      "--- Sample Data ---\n",
      "[('After', 'IN'), ('spending', 'VBG'), ('the', 'DT'), ('past', 'JJ'), ('six', 'CD'), ('years', 'NNS'), ('as', 'IN'), ('a', 'DT'), ('senior', 'JJ'), ('systems', 'NNS'), ('analyst', 'NN'), (',', ','), ('I', 'PRP'), (\"'ve\", 'VBP'), ('developed', 'VBN'), ('a', 'DT'), ('number', 'NN'), ('of', 'IN'), ('important', 'JJ'), ('skills', 'NNS'), (',', ','), ('including', 'VBG'), ('business', 'NN'), ('modeling', 'NN'), (',', ','), ('process', 'NN'), ('re-engineering', 'NN'), (',', ','), ('software', 'NN'), ('-', 'HYPH'), ('package', 'NN'), ('evaluation', 'NN'), (',', ','), ('and', 'CC'), ('advanced', 'JJ'), ('programming', 'NN'), ('capabilities', 'NNS'), ('in', 'IN'), ('UNIX', 'NNP'), ('and', 'CC'), ('C', 'NNP'), ('environments', 'NNS'), ('.', '.')]\n"
     ]
    }
   ],
   "source": [
    "tagged_sents = corpus.tagged_sents()\n",
    "print(\"Datatype : \", type(tagged_sents))\n",
    "print(\"--- Sample Data ---\")\n",
    "print(tagged_sents[1])"
   ]
  },
  {
   "cell_type": "code",
   "execution_count": 15,
   "metadata": {},
   "outputs": [
    {
     "name": "stdout",
     "output_type": "stream",
     "text": [
      "Datatype :  <class 'list'>\n",
      "--- Sample Data ---\n",
      "(ROOT\n",
      "  (SBARQ\n",
      "    (WHNP (WP What))\n",
      "    (SQ (VBP are) (NP (PRP$ your) (JJ key) (NNS skills)))\n",
      "    (. ?)))\n"
     ]
    }
   ],
   "source": [
    "parsed_sents = corpus.parsed_sents()\n",
    "print(\"Datatype : \", type(parsed_sents))\n",
    "print(\"--- Sample Data ---\")\n",
    "print(parsed_sents[0])"
   ]
  },
  {
   "cell_type": "code",
   "execution_count": 16,
   "metadata": {},
   "outputs": [
    {
     "name": "stdout",
     "output_type": "stream",
     "text": [
      "          ROOT                   \n",
      "           |                      \n",
      "         SBARQ                   \n",
      "  _________|___________________   \n",
      " |              SQ             | \n",
      " |     _________|___           |  \n",
      "WHNP  |             NP         | \n",
      " |    |     ________|____      |  \n",
      " WP  VBP  PRP$      JJ  NNS    . \n",
      " |    |    |        |    |     |  \n",
      "What are  your     key skills  ? \n",
      "\n"
     ]
    }
   ],
   "source": [
    "corpus.visualize_parsed_tree(parsed_sents[0])"
   ]
  },
  {
   "cell_type": "code",
   "execution_count": 17,
   "metadata": {},
   "outputs": [
    {
     "name": "stdout",
     "output_type": "stream",
     "text": [
      "Datatype :  <class 'list'>\n",
      "--- Sample Data ---\n",
      "What\tWP\t0\troot\n",
      "are\tVBP\t1\tcop\n",
      "your\tPRP$\t5\tnmod:poss\n",
      "key\tJJ\t5\tamod\n",
      "skills\tNNS\t1\tnsubj\n",
      "\n"
     ]
    }
   ],
   "source": [
    "dependency_parsed_sents = corpus.dependency_parsed_sents()\n",
    "print(\"Datatype : \", type(dependency_parsed_sents))\n",
    "print(\"--- Sample Data ---\")\n",
    "print(dependency_parsed_sents[0])"
   ]
  },
  {
   "cell_type": "code",
   "execution_count": null,
   "metadata": {},
   "outputs": [],
   "source": []
  }
 ],
 "metadata": {
  "kernelspec": {
   "display_name": "Python 3",
   "language": "python",
   "name": "python3"
  },
  "language_info": {
   "codemirror_mode": {
    "name": "ipython",
    "version": 3
   },
   "file_extension": ".py",
   "mimetype": "text/x-python",
   "name": "python",
   "nbconvert_exporter": "python",
   "pygments_lexer": "ipython3",
   "version": "3.8.5"
  }
 },
 "nbformat": 4,
 "nbformat_minor": 4
}
